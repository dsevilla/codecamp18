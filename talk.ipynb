{
 "cells": [
  {
   "cell_type": "markdown",
   "metadata": {},
   "source": [
    "# Tecnologías NoSQL -- Tutorial en JISBD 2017\n",
    "\n",
    "Toda la información de este tutorial está disponible en https://github.com/dsevilla/jisbd17-nosql.\n",
    "Diego Sevilla Ruiz, [dsevilla@um.es](mailto:dsevilla@um.es).\n",
    "\n",
    "![Slide0](./extra/images/slide000.jpg)"
   ]
  },
  {
   "cell_type": "code",
   "execution_count": null,
   "metadata": {},
   "outputs": [],
   "source": [
    "%load extra/utils/functions.py"
   ]
  },
  {
   "cell_type": "code",
   "execution_count": null,
   "metadata": {},
   "outputs": [],
   "source": [
    "ds(1,2)"
   ]
  },
  {
   "cell_type": "code",
   "execution_count": null,
   "metadata": {},
   "outputs": [],
   "source": [
    "ds(3)"
   ]
  },
  {
   "cell_type": "code",
   "execution_count": null,
   "metadata": {
    "scrolled": false
   },
   "outputs": [],
   "source": [
    "yoda(u\"Una guerra SQL vs. NoSQL no debes empezar\")"
   ]
  },
  {
   "cell_type": "markdown",
   "metadata": {},
   "source": [
    "### http://www.nosql-vs-sql.com/\n",
    "\n",
    "![nosql1](./extra/images/nosql1.png)\n",
    "![nosql2](./extra/images/nosql2.png)\n",
    "![nosql3](./extra/images/nosql3.png)"
   ]
  },
  {
   "cell_type": "code",
   "execution_count": null,
   "metadata": {
    "scrolled": false
   },
   "outputs": [],
   "source": [
    "ds(4)"
   ]
  },
  {
   "cell_type": "code",
   "execution_count": null,
   "metadata": {},
   "outputs": [],
   "source": [
    "%%bash\n",
    "sudo docker pull mongo\n",
    "pip install --upgrade pymongo"
   ]
  },
  {
   "cell_type": "code",
   "execution_count": null,
   "metadata": {},
   "outputs": [],
   "source": [
    "!sudo docker run --rm -d --name mongo -p 27017:27017 mongo"
   ]
  },
  {
   "cell_type": "code",
   "execution_count": null,
   "metadata": {},
   "outputs": [],
   "source": [
    "import pymongo\n",
    "from pymongo import MongoClient\n",
    "client = MongoClient(\"localhost\", 27017)\n",
    "client"
   ]
  },
  {
   "cell_type": "markdown",
   "metadata": {},
   "source": [
    "Creamos una base de datos `presentations`:"
   ]
  },
  {
   "cell_type": "code",
   "execution_count": null,
   "metadata": {},
   "outputs": [],
   "source": [
    "db = client.presentations"
   ]
  },
  {
   "cell_type": "markdown",
   "metadata": {},
   "source": [
    "Y la colección `jisbd17`:"
   ]
  },
  {
   "cell_type": "code",
   "execution_count": null,
   "metadata": {},
   "outputs": [],
   "source": [
    "jisbd17 = db.jisbd17\n",
    "jisbd17"
   ]
  },
  {
   "cell_type": "code",
   "execution_count": null,
   "metadata": {},
   "outputs": [],
   "source": [
    "jisbd17.insert_one({'_id' : 'jisbd17-000',\n",
    "                   'title': 'blah',\n",
    "                   'text' : '',\n",
    "                   'image': None,\n",
    "                   'references' : \n",
    "                       [{'type' : 'web',\n",
    "                         'ref' : 'http://nosql-database.org'},\n",
    "                        {'type' : 'book',\n",
    "                         'ref' : 'Sadalage, Fowler. NoSQL Distilled'}\n",
    "                       ],\n",
    "                   'xref' : ['jisbd17-010', 'jisbd17-002'],\n",
    "                   'notes': 'blah blah'\n",
    "                  })"
   ]
  },
  {
   "cell_type": "code",
   "execution_count": null,
   "metadata": {},
   "outputs": [],
   "source": [
    "client.database_names()"
   ]
  },
  {
   "cell_type": "code",
   "execution_count": null,
   "metadata": {},
   "outputs": [],
   "source": [
    "DictTable(jisbd17.find_one())"
   ]
  },
  {
   "cell_type": "markdown",
   "metadata": {},
   "source": [
    "### Voy a añadir todas las imágenes de la presentación a la base de datos\n",
    "\n",
    "Primero se buscan todos los ficheros, y después se utiliza la función `update_one()` para añadir o actualizar los valores de la base de datos (ya habíamos metido información parcial para `jisbd17-000`)."
   ]
  },
  {
   "cell_type": "code",
   "execution_count": null,
   "metadata": {},
   "outputs": [],
   "source": [
    "import os\n",
    "import os.path\n",
    "import glob\n",
    "files = glob.glob(os.path.join('slides','slides-dir','*.png'))"
   ]
  },
  {
   "cell_type": "markdown",
   "metadata": {},
   "source": [
    "Añadiendo las imágenes a la base de datos..."
   ]
  },
  {
   "cell_type": "code",
   "execution_count": null,
   "metadata": {
    "scrolled": true
   },
   "outputs": [],
   "source": [
    "from bson.binary import Binary\n",
    "\n",
    "for file in files:\n",
    "    img = load_img(file)\n",
    "    img_to_thumbnail(img)\n",
    "    slidename = os.path.basename(os.path.splitext(file)[0])\n",
    "    jisbd17.update_one({'_id': slidename},\n",
    "                       {'$set' : {'image': Binary(img_to_bytebuffer(img))}},\n",
    "                      True)"
   ]
  },
  {
   "cell_type": "code",
   "execution_count": null,
   "metadata": {
    "scrolled": true
   },
   "outputs": [],
   "source": [
    "for slide in jisbd17.find():\n",
    "    print(slide['_id'], slide.get('title'))"
   ]
  },
  {
   "cell_type": "code",
   "execution_count": null,
   "metadata": {
    "scrolled": true
   },
   "outputs": [],
   "source": [
    "slide0 = jisbd17.find_one({'_id': 'jisbd17-000'})"
   ]
  },
  {
   "cell_type": "code",
   "execution_count": null,
   "metadata": {
    "scrolled": true
   },
   "outputs": [],
   "source": [
    "img_from_bytebuffer(slide0['image'])"
   ]
  },
  {
   "cell_type": "markdown",
   "metadata": {},
   "source": [
    "Añado la presentación de JISBD 2017 a la colección `presentations`."
   ]
  },
  {
   "cell_type": "code",
   "execution_count": null,
   "metadata": {},
   "outputs": [],
   "source": [
    "presentations = db.presentations\n",
    "slides = [r['_id'] for r in jisbd17.find({'_id' : {'$regex' : '^jisbd17-'}},projection={'_id' : True}).sort('_id', 1)]\n",
    "presentations.insert_one({'name' : 'Tecnologías NoSQL. JISBD 2017',\n",
    "                          'slides' : slides\n",
    "                         })"
   ]
  },
  {
   "cell_type": "code",
   "execution_count": null,
   "metadata": {},
   "outputs": [],
   "source": [
    "presentations.find_one()"
   ]
  },
  {
   "cell_type": "code",
   "execution_count": null,
   "metadata": {},
   "outputs": [],
   "source": [
    "yoda(u'Modelado de datos tú no hacer...')"
   ]
  },
  {
   "cell_type": "code",
   "execution_count": null,
   "metadata": {
    "scrolled": false
   },
   "outputs": [],
   "source": [
    "inciso_slide = 9\n",
    "ds(inciso_slide,3)"
   ]
  },
  {
   "cell_type": "code",
   "execution_count": null,
   "metadata": {},
   "outputs": [],
   "source": [
    "jisbd17.find_one({'_id': 'jisbd17-000'})"
   ]
  },
  {
   "cell_type": "markdown",
   "metadata": {},
   "source": [
    "# Introducción a NoSQL"
   ]
  },
  {
   "cell_type": "code",
   "execution_count": null,
   "metadata": {
    "scrolled": false
   },
   "outputs": [],
   "source": [
    "ds(13,7)"
   ]
  },
  {
   "cell_type": "code",
   "execution_count": null,
   "metadata": {
    "scrolled": false
   },
   "outputs": [],
   "source": [
    "ds(20,5)"
   ]
  },
  {
   "cell_type": "markdown",
   "metadata": {},
   "source": [
    "### ¡Escalabilidad!"
   ]
  },
  {
   "cell_type": "code",
   "execution_count": null,
   "metadata": {
    "scrolled": false
   },
   "outputs": [],
   "source": [
    "ds(25,6)"
   ]
  },
  {
   "cell_type": "markdown",
   "metadata": {},
   "source": [
    "### Schemaless"
   ]
  },
  {
   "cell_type": "code",
   "execution_count": null,
   "metadata": {
    "scrolled": false
   },
   "outputs": [],
   "source": [
    "ds(31,6)"
   ]
  },
  {
   "cell_type": "code",
   "execution_count": null,
   "metadata": {},
   "outputs": [],
   "source": [
    "ds(37)"
   ]
  },
  {
   "cell_type": "markdown",
   "metadata": {},
   "source": [
    "### Modelado de datos en NoSQL"
   ]
  },
  {
   "cell_type": "code",
   "execution_count": null,
   "metadata": {
    "scrolled": false
   },
   "outputs": [],
   "source": [
    "ds(38,11)"
   ]
  },
  {
   "cell_type": "markdown",
   "metadata": {},
   "source": [
    "### Eficiencia *raw*"
   ]
  },
  {
   "cell_type": "code",
   "execution_count": null,
   "metadata": {
    "scrolled": false
   },
   "outputs": [],
   "source": [
    "ds(49,6)"
   ]
  },
  {
   "cell_type": "markdown",
   "metadata": {},
   "source": [
    "# Tipos de Sistemas NoSQL"
   ]
  },
  {
   "cell_type": "markdown",
   "metadata": {},
   "source": [
    "## MongoDB (documentos)\n",
    "\n",
    "![Image of MongoDB](https://webassets.mongodb.com/_com_assets/cms/MongoDB-Logo-5c3a7405a85675366beb3a5ec4c032348c390b3f142f5e6dddf1d78e2df5cb5c.png)\n",
    "\n",
    "Base de datos documental que usaremos como ejemplo. Una de las más extendidas:\n",
    "\n",
    "- Modelo de documentos JSON (BSON, en binario, usado para eficiencia)\n",
    "- Map-Reduce para transformaciones de la base de datos y consultas\n",
    "- Lenguaje propio de manipulación de la base de datos llamado \"de agregación\" (aggregate)\n",
    "- Soporta sharding (distribución de partes de la BD en distintos nodos)\n",
    "- Soporta replicación (copias sincronizadas master-slave en distintos nodos)\n",
    "- No soporta ACID\n",
    "- La transacción se realiza a nivel de **DOCUMENTO**\n",
    "\n",
    "Usaremos `pymongo` desde Python. Para instalarlo:\n",
    "\n",
    "    sudo pip install --upgrade pymongo\n"
   ]
  },
  {
   "cell_type": "markdown",
   "metadata": {},
   "source": [
    "### Texto y título de las diapositivas\n",
    "\n",
    "Como ya tenemos populada la colección `jisbd17`, podemos actualizar los documentos para añadir el título y el texto de cada diapositiva. Lo extraeremos del fichero `slides.tex`."
   ]
  },
  {
   "cell_type": "code",
   "execution_count": null,
   "metadata": {
    "scrolled": true
   },
   "outputs": [],
   "source": [
    "import re\n",
    "\n",
    "def read_slides():\n",
    "    in_slide = False\n",
    "    slidetitle = ''\n",
    "    slidetext = ''\n",
    "    slidenum = 0\n",
    "    with open('slides/slides.tex', 'r') as f:\n",
    "        for line in f:\n",
    "            # Remove comments\n",
    "            line = line.split('%')[0]\n",
    "            \n",
    "            if not in_slide:\n",
    "                if '\\\\begin{frame}' in line:\n",
    "                    in_slide = True\n",
    "            elif '\\\\frametitle' in line:\n",
    "                q = re.search('\\\\\\\\frametitle{([^}]+)',line)\n",
    "                slidetitle = q.group(1)\n",
    "                continue\n",
    "            elif '\\\\framebreak' in line or re.match('\\\\\\\\only<[^1]',line) or '\\\\end{frame}' in line:\n",
    "                \n",
    "                # Añadir la diapositiva a la lista\n",
    "                slideid = 'jisbd17-{:03d}'.format(slidenum)\n",
    "                print(slideid)\n",
    "                jisbd17.update_one({'_id': slideid},\n",
    "                       {'$set' : {'title': slidetitle,\n",
    "                                  'text' : slidetext\n",
    "                                 }},\n",
    "                      True)\n",
    "\n",
    "                # Next\n",
    "                slidetext = ''\n",
    "                slidenum += 1\n",
    "                if '\\\\end{frame}' in line:\n",
    "                    in_slide = False\n",
    "                    slidetitle = ''\n",
    "            else:\n",
    "                slidetext += line\n",
    "                \n",
    "# Llamar a la función\n",
    "read_slides()"
   ]
  },
  {
   "cell_type": "markdown",
   "metadata": {
    "scrolled": true
   },
   "source": [
    "Para usar el shell de mongo en Javascript:\n",
    "\n",
    "    docker exec -it mongo mongo"
   ]
  },
  {
   "cell_type": "markdown",
   "metadata": {},
   "source": [
    "### Consultas sencillas\n",
    "\n",
    "Distribución del tamaño del texto de las transparencias."
   ]
  },
  {
   "cell_type": "code",
   "execution_count": null,
   "metadata": {},
   "outputs": [],
   "source": [
    "slides = jisbd17.find(filter={},projection={'text': True})\n",
    "df = pd.DataFrame([len(s.get('text','')) for s in slides])\n",
    "df.plot()"
   ]
  },
  {
   "cell_type": "markdown",
   "metadata": {},
   "source": [
    "La función `find()` tiene un gran número de posibilidades para especificar la búsqueda. Se pueden utilizar cualificadores complejos como:\n",
    "\n",
    "- `$and`\n",
    "- `$or`\n",
    "- `$not`\n",
    "\n",
    "Estos calificadores unen \"objetos\", no valores. Por otro lado, hay otros calificadores que se refieren a valores:\n",
    "\n",
    "- `$lt` (menor)\n",
    "- `$lte` (menor o igual)\n",
    "- `$gt` (mayor)\n",
    "- `$gte` (mayor o igual)\n",
    "- `$regex` (expresión regular)"
   ]
  },
  {
   "cell_type": "code",
   "execution_count": null,
   "metadata": {},
   "outputs": [],
   "source": [
    "jisbd17.find_one({'text': {'$regex' : '[Mm]ongo'}})['_id']"
   ]
  },
  {
   "cell_type": "markdown",
   "metadata": {},
   "source": [
    "También permite mostrar el plan de ejecución:"
   ]
  },
  {
   "cell_type": "code",
   "execution_count": null,
   "metadata": {},
   "outputs": [],
   "source": [
    "jisbd17.find({'title' : 'jisbd17-001'}).explain()"
   ]
  },
  {
   "cell_type": "markdown",
   "metadata": {},
   "source": [
    "Se puede crear un índice si la búsqueda por ese campo va a ser crítica. Se pueden crear más índices, de tipos `ASCENDING`, `DESCENDING`, `HASHED`, y otros geoespaciales. https://api.mongodb.com/python/current/api/pymongo/collection.html#pymongo.collection.Collection.create_index"
   ]
  },
  {
   "cell_type": "code",
   "execution_count": null,
   "metadata": {},
   "outputs": [],
   "source": [
    "jisbd17.create_index([('title', pymongo.HASHED)])"
   ]
  },
  {
   "cell_type": "code",
   "execution_count": null,
   "metadata": {},
   "outputs": [],
   "source": [
    "jisbd17.find({'title' : 'jisbd17-001'}).explain()"
   ]
  },
  {
   "cell_type": "markdown",
   "metadata": {},
   "source": [
    "### Map-Reduce"
   ]
  },
  {
   "cell_type": "code",
   "execution_count": null,
   "metadata": {
    "scrolled": false
   },
   "outputs": [],
   "source": [
    "ds(59,9)"
   ]
  },
  {
   "cell_type": "markdown",
   "metadata": {},
   "source": [
    "Mongodb incluye dos APIs para procesar y buscar documentos: el API de Map-Reduce y el API de agregación. Veremos primero el de Map-Reduce. Manual: https://docs.mongodb.com/manual/aggregation/#map-reduce\n",
    "\n",
    "![imagen](https://docs.mongodb.com/manual/_images/map-reduce.bakedsvg.svg)"
   ]
  },
  {
   "cell_type": "markdown",
   "metadata": {},
   "source": [
    "### Histograma de tamaño del texto de las diapositivas\n",
    "\n",
    "Con Map-Reduce se muestra el tamaño del texto de cada diapositiva, y el número de diapositiva que tienen ese tamaño de texto."
   ]
  },
  {
   "cell_type": "code",
   "execution_count": null,
   "metadata": {
    "scrolled": true
   },
   "outputs": [],
   "source": [
    "from bson.code import Code\n",
    "map = Code(\n",
    "    '''function () {\n",
    "           if ('text' in this)\n",
    "               emit(this.text.length, 1)\n",
    "           else\n",
    "               emit(0,1)\n",
    "       }''')\n",
    "reduce = Code(\n",
    "    '''function (key, values) {\n",
    "            return Array.sum(values);\n",
    "        }''')\n",
    "results = jisbd17.map_reduce(map, reduce, \"myresults\")\n",
    "results = list(results.find())\n",
    "results"
   ]
  },
  {
   "cell_type": "markdown",
   "metadata": {},
   "source": [
    "Como un *plot*:"
   ]
  },
  {
   "cell_type": "code",
   "execution_count": null,
   "metadata": {},
   "outputs": [],
   "source": [
    "df = pd.DataFrame(data = [int(r['value']) for r in results], \n",
    "                  index = [int(r['_id']) for r in results], \n",
    "                  columns=['posts per length'])\n",
    "df.plot(kind='bar',figsize=(30,10))"
   ]
  },
  {
   "cell_type": "markdown",
   "metadata": {},
   "source": [
    "O un histograma:"
   ]
  },
  {
   "cell_type": "code",
   "execution_count": null,
   "metadata": {},
   "outputs": [],
   "source": [
    "df.hist()"
   ]
  },
  {
   "cell_type": "markdown",
   "metadata": {},
   "source": [
    "### Framework de Agregación\n",
    "\n",
    "Framework de agregación: https://docs.mongodb.com/manual/reference/operator/aggregation/. Y aquí una presentación interesante sobre el tema: https://www.mongodb.com/presentations/aggregation-framework-0?jmp=docs&_ga=1.223708571.1466850754.1477658152\n",
    "\n",
    "![agragación](https://docs.mongodb.com/manual/_images/aggregation-pipeline.bakedsvg.svg)"
   ]
  },
  {
   "cell_type": "code",
   "execution_count": null,
   "metadata": {
    "scrolled": true
   },
   "outputs": [],
   "source": [
    "list(jisbd17.aggregate( [ {'$project' : { 'Id' : 1 }}, {'$limit': 20} ]))"
   ]
  },
  {
   "cell_type": "code",
   "execution_count": null,
   "metadata": {},
   "outputs": [],
   "source": [
    "nposts_by_length = jisbd17.aggregate( [\n",
    "        #{'$match': { 'text' : {'$regex': 'HBase'}}},\n",
    "        {'$project': {\n",
    "            'text' : {'$ifNull' : ['$text', '']}\n",
    "        }},\n",
    "        {'$project' : {\n",
    "             'id' : {'$strLenBytes': '$text'},\n",
    "             'value' : {'$literal' : 1}\n",
    "        }\n",
    "        },\n",
    "        {'$group' : {\n",
    "            '_id' : '$id',\n",
    "            'count' : {'$sum' : '$value'}\n",
    "        }\n",
    "        },\n",
    "        {'$sort' : { '_id' : 1}}\n",
    "        ])\n",
    "list(nposts_by_length)"
   ]
  },
  {
   "cell_type": "markdown",
   "metadata": {},
   "source": [
    "### Simulación de JOIN: `$lookup`\n",
    "\n",
    "El *framework* de agregación introdujo también una construcción equivalente a `JOIN` de SQL. Por ejemplo, se puede mostrar los títulos de las transparencias referenciadas además de los identificadores:"
   ]
  },
  {
   "cell_type": "code",
   "execution_count": null,
   "metadata": {},
   "outputs": [],
   "source": [
    "list(jisbd17.aggregate( [\n",
    "        {'$lookup' : {\n",
    "            \"from\": \"jisbd17\",\n",
    "            \"localField\": \"xref\",\n",
    "            \"foreignField\": \"_id\",\n",
    "            \"as\": \"xrefTitles\"\n",
    "        }},\n",
    "        {'$project' : {\n",
    "            '_id' : True,\n",
    "            'xref' : True,\n",
    "            'xrefTitles.title' : True\n",
    "        }}\n",
    "        ]))"
   ]
  },
  {
   "cell_type": "markdown",
   "metadata": {},
   "source": [
    "## HBase (wide-column)\n",
    "\n",
    "![Image of HBase](http://hbase.apache.org/images/hbase_logo_with_orca_large.png)"
   ]
  },
  {
   "cell_type": "markdown",
   "metadata": {},
   "source": [
    "Usaré la imagen docker de HBase a partir de aquí: https://github.com/krejcmat/hadoop-hbase-docker, ligeramente modificada. Para iniciar los contenedores (un master y dos \"slave\"):\n",
    "\n",
    "    git clone https://github.com/dsevilla/hadoop-hbase-docker.git\n",
    "    cd hadoop-hbase-docker\n",
    "    ./start-container.sh latest 2\n",
    "\n",
    "    # Un conenedor máster, 2 slave, simulan un clúster distribuido de tres nodos\n",
    "    # Los contenedores arrancan, el shell entra en el master:\n",
    "\n",
    "    ./configure-slaves.sh\n",
    "    ./start-hadoop.sh\n",
    "    hbase-daemon.sh start thrift  # Servidor para conexión externo\n",
    "    ./start-hbase.sh\n",
    "\n",
    "Ahora ya podemos conectar a la base de datos. Dentro del contenedor, ejecutando `hbase shell` nos vuelve a mostrar el shell. En él, podemos ejecutar consultas, creación de tablas, etc.:\n",
    "\n",
    "    status\n",
    "    # Crear tabla\n",
    "    # Put\n",
    "    # Consultas sencillas"
   ]
  },
  {
   "cell_type": "code",
   "execution_count": null,
   "metadata": {},
   "outputs": [],
   "source": [
    "%%bash\n",
    "cd /tmp && git clone https://github.com/dsevilla/hadoop-hbase-docker.git"
   ]
  },
  {
   "cell_type": "code",
   "execution_count": null,
   "metadata": {
    "scrolled": false
   },
   "outputs": [],
   "source": [
    "ds(84,11)"
   ]
  },
  {
   "cell_type": "code",
   "execution_count": null,
   "metadata": {},
   "outputs": [],
   "source": [
    "ds(97,2)"
   ]
  },
  {
   "cell_type": "markdown",
   "metadata": {},
   "source": [
    "También se puede conectar de forma remota. Usaremos, desde Python, el paquete `happybase`:"
   ]
  },
  {
   "cell_type": "code",
   "execution_count": null,
   "metadata": {},
   "outputs": [],
   "source": [
    "!pip install --upgrade happybase "
   ]
  },
  {
   "cell_type": "code",
   "execution_count": null,
   "metadata": {},
   "outputs": [],
   "source": [
    "import happybase\n",
    "happybase.__version__"
   ]
  },
  {
   "cell_type": "code",
   "execution_count": null,
   "metadata": {},
   "outputs": [],
   "source": [
    "host = '127.0.0.1'\n",
    "hbasecon = happybase.Connection(host)\n",
    "hbasecon.tables()"
   ]
  },
  {
   "cell_type": "code",
   "execution_count": null,
   "metadata": {},
   "outputs": [],
   "source": [
    "ds(103,3)"
   ]
  },
  {
   "cell_type": "code",
   "execution_count": null,
   "metadata": {},
   "outputs": [],
   "source": [
    "try:\n",
    "    hbasecon.create_table(\n",
    "        \"jisbd17\",\n",
    "        {\n",
    "            'slide': dict(bloom_filter_type='ROW',max_versions=1),\n",
    "            'image' : dict(compression='GZ',max_versions=1),\n",
    "            'text' : dict(compression='GZ',max_versions=1),\n",
    "            'xref' : dict(bloom_filter_type='ROWCOL',max_versions=1)\n",
    "        })\n",
    "except:\n",
    "    print (\"Database slides already exists.\")\n",
    "    pass"
   ]
  },
  {
   "cell_type": "code",
   "execution_count": null,
   "metadata": {},
   "outputs": [],
   "source": [
    "hbasecon.tables()"
   ]
  },
  {
   "cell_type": "markdown",
   "metadata": {},
   "source": [
    "### Copiar la tabla `jisbd17` de mongo\n",
    "\n",
    "Se hará respetando las familias de columnas creadas. En particular, se dejará por ahora el campo `xref`, del que se verá después una optimización."
   ]
  },
  {
   "cell_type": "code",
   "execution_count": null,
   "metadata": {},
   "outputs": [],
   "source": [
    "h_jisbd17 = hbasecon.table('jisbd17')"
   ]
  },
  {
   "cell_type": "code",
   "execution_count": null,
   "metadata": {},
   "outputs": [],
   "source": [
    "with h_jisbd17.batch(batch_size=100) as b:\n",
    "    for doc in jisbd17.find():\n",
    "        b.put(doc['_id'], {\n",
    "            'slide:title' : doc.get('title',''),\n",
    "            'slide:notes' : doc.get('notes',''),\n",
    "            'text:' : doc.get('text', ''),\n",
    "            'image:' : str(doc.get('image',''))\n",
    "        })"
   ]
  },
  {
   "cell_type": "markdown",
   "metadata": {},
   "source": [
    "Para el caso de `xref` usaremos una optimización posible en HBase:\n",
    "\n",
    "- Las filas pueden crecer **tanto como se quiera** también en columnas\n",
    "- El filtro *Bloom* `ROWCOL` hace muy eficiente buscar por una columna en particular\n",
    "\n",
    "**IDEA**: Usar los elementos del array como *nombres* de las columnas. Convierte automáticamente a esa columna en un **índice inverso**:"
   ]
  },
  {
   "cell_type": "code",
   "execution_count": null,
   "metadata": {},
   "outputs": [],
   "source": [
    "with h_jisbd17.batch(batch_size=100) as b:\n",
    "    for doc in jisbd17.find():\n",
    "        if 'xref' in doc:\n",
    "            for ref in doc['xref']:\n",
    "                b.put(doc['_id'], {\n",
    "                    'xref:'+ref : ''\n",
    "                })"
   ]
  },
  {
   "cell_type": "code",
   "execution_count": null,
   "metadata": {},
   "outputs": [],
   "source": [
    "list(h_jisbd17.scan(columns=['xref']))"
   ]
  },
  {
   "cell_type": "markdown",
   "metadata": {},
   "source": [
    "Y finalmente el índice inverso. Es muy eficiente ya que para esa familia de columnas `xref` se ha usado el filtro *Bloom* `ROWCOL`."
   ]
  },
  {
   "cell_type": "code",
   "execution_count": null,
   "metadata": {},
   "outputs": [],
   "source": [
    "list(h_jisbd17.scan(columns=['xref:jisbd17-002']))"
   ]
  },
  {
   "cell_type": "markdown",
   "metadata": {},
   "source": [
    "Finalmente, en HBase, un `scan` es una *pérdida de tiempo*. Se debería precomputar la referencia inversa e incluirla en cada *slide*. La búsqueda así es O(1)."
   ]
  },
  {
   "cell_type": "markdown",
   "metadata": {},
   "source": [
    "### Obtención de una fila con `happybase`"
   ]
  },
  {
   "cell_type": "code",
   "execution_count": null,
   "metadata": {},
   "outputs": [],
   "source": [
    "h_jisbd17.row('jisbd17-001')"
   ]
  },
  {
   "cell_type": "markdown",
   "metadata": {},
   "source": [
    "### Ejemplos de filtros con `happybase`"
   ]
  },
  {
   "cell_type": "code",
   "execution_count": null,
   "metadata": {},
   "outputs": [],
   "source": [
    "ds(114)"
   ]
  },
  {
   "cell_type": "code",
   "execution_count": null,
   "metadata": {},
   "outputs": [],
   "source": [
    "list(h_jisbd17.scan(filter=\"KeyOnlyFilter()\"))"
   ]
  },
  {
   "cell_type": "code",
   "execution_count": null,
   "metadata": {},
   "outputs": [],
   "source": [
    "list(h_jisbd17.scan(filter=\"PrefixFilter('jisbd17-0')\",limit=5))"
   ]
  },
  {
   "cell_type": "code",
   "execution_count": null,
   "metadata": {},
   "outputs": [],
   "source": [
    "list(h_jisbd17.scan(filter=\"ColumnPrefixFilter('t')\"))"
   ]
  },
  {
   "cell_type": "code",
   "execution_count": null,
   "metadata": {},
   "outputs": [],
   "source": [
    "list(h_jisbd17.scan(filter=\"RowFilter(<,'binary:jisbd17-1')\",limit=5))"
   ]
  },
  {
   "cell_type": "code",
   "execution_count": null,
   "metadata": {},
   "outputs": [],
   "source": [
    "list(h_jisbd17.scan(filter=\"SingleColumnValueFilter('slide', 'title', =,'binary:HBase')\"))"
   ]
  },
  {
   "cell_type": "markdown",
   "metadata": {},
   "source": [
    "## Neo4j (Grafos)\n",
    "\n",
    "![Image of HBase](https://neo4j.com/wp-content/themes/neo4jweb/assets/images/neo4j-logo-2015.png)\n",
    "\n",
    "Se puede utilizar el propio interfaz de Neo4j también en la dirección http://127.0.0.1:7474."
   ]
  },
  {
   "cell_type": "code",
   "execution_count": null,
   "metadata": {},
   "outputs": [],
   "source": [
    "%%bash\n",
    "sudo docker pull neo4j\n",
    "sudo docker run -d --rm --name neo4j -p 7474:7474 -p 7687:7687 --env NEO4J_AUTH=none neo4j"
   ]
  },
  {
   "cell_type": "markdown",
   "metadata": {},
   "source": [
    "Vamos a cargar la extensión `ipython-cypher` para poder lanzar consultas Cypher directamente a través de la hoja. He iniciado la imagen de Neo4j sin autenticación, para pruebas locales.\n",
    "\n",
    "Utilizaremos una extensión de Jupyter Notebook que se llama `ipython-cypher`. Está instalada en la máquina virtual. Si no, se podría instalar con:\n",
    "\n",
    "    pip install ipython-cypher\n",
    "    \n",
    "Después, todas las celdas que comiencen por `%%cypher` y todas las instrucciones Python que comiencen por `%cypher` se enviarán a Neo4j para su interpretación. También usaremos la librería `py2neo` para crear el grafo:\n",
    "\n",
    "    pip install py2neo"
   ]
  },
  {
   "cell_type": "code",
   "execution_count": null,
   "metadata": {},
   "outputs": [],
   "source": [
    "%%bash\n",
    "pip install ipython-cypher\n",
    "pip install py2neo"
   ]
  },
  {
   "cell_type": "code",
   "execution_count": null,
   "metadata": {},
   "outputs": [],
   "source": [
    "ds(135,3)"
   ]
  },
  {
   "cell_type": "code",
   "execution_count": null,
   "metadata": {},
   "outputs": [],
   "source": [
    "ds(139,2)"
   ]
  },
  {
   "cell_type": "code",
   "execution_count": null,
   "metadata": {},
   "outputs": [],
   "source": [
    "ds(148)"
   ]
  },
  {
   "cell_type": "code",
   "execution_count": null,
   "metadata": {
    "scrolled": false
   },
   "outputs": [],
   "source": [
    "ds(150,4)"
   ]
  },
  {
   "cell_type": "code",
   "execution_count": null,
   "metadata": {},
   "outputs": [],
   "source": [
    "from py2neo import Graph\n",
    "\n",
    "graph = Graph('http://localhost:7474/db/data/')"
   ]
  },
  {
   "cell_type": "code",
   "execution_count": null,
   "metadata": {},
   "outputs": [],
   "source": [
    "graph.delete_all()"
   ]
  },
  {
   "cell_type": "markdown",
   "metadata": {},
   "source": [
    "Importamos todas las diapositivas de MongoDB:"
   ]
  },
  {
   "cell_type": "code",
   "execution_count": null,
   "metadata": {},
   "outputs": [],
   "source": [
    "from py2neo import Node\n",
    "\n",
    "for doc in jisbd17.find():\n",
    "    node = Node(\"Slide\",\n",
    "                name = doc.get('_id'),\n",
    "                title = doc.get('title',''),\n",
    "                notes = doc.get('notes',''),\n",
    "                text = doc.get('text', ''))\n",
    "    graph.create(node)"
   ]
  },
  {
   "cell_type": "code",
   "execution_count": null,
   "metadata": {},
   "outputs": [],
   "source": [
    "graph.find_one('Slide', property_key='name', property_value='jisbd17-001')"
   ]
  },
  {
   "cell_type": "code",
   "execution_count": null,
   "metadata": {},
   "outputs": [],
   "source": [
    "from py2neo import NodeSelection\n",
    "\n",
    "NodeSelection(graph,conditions=[\"_.name='jisbd17-001'\"]).first()['title']"
   ]
  },
  {
   "cell_type": "markdown",
   "metadata": {},
   "source": [
    "Crearemos la relación `:NEXT` para indicar la siguiente diapositiva. Ahora se hará con `py2neo` y después con `ipython-cypher`."
   ]
  },
  {
   "cell_type": "code",
   "execution_count": null,
   "metadata": {},
   "outputs": [],
   "source": [
    "from py2neo import Relationship\n",
    "\n",
    "for i in range(jisbd17.count() - 1):\n",
    "    slide_pre = NodeSelection(graph,conditions=[\n",
    "        '_.name = \\'jisbd17-{:03d}\\''.format(i)]).first()\n",
    "    slide_next = NodeSelection(graph).where(\n",
    "        '_.name = \\'jisbd17-{:03d}\\''.format(i+1)).first()\n",
    "    \n",
    "    graph.create(Relationship(slide_pre, \"NEXT\", slide_next))"
   ]
  },
  {
   "cell_type": "markdown",
   "metadata": {},
   "source": [
    "### El lenguaje Cypher\n"
   ]
  },
  {
   "cell_type": "code",
   "execution_count": null,
   "metadata": {
    "scrolled": false
   },
   "outputs": [],
   "source": [
    "ds(154,7)"
   ]
  },
  {
   "cell_type": "markdown",
   "metadata": {},
   "source": [
    "### Ipython-cypher"
   ]
  },
  {
   "cell_type": "code",
   "execution_count": null,
   "metadata": {},
   "outputs": [],
   "source": [
    "%load_ext cypher"
   ]
  },
  {
   "cell_type": "code",
   "execution_count": null,
   "metadata": {},
   "outputs": [],
   "source": [
    "%config CypherMagic.auto_html=False\n",
    "%config CypherMagic.auto_pandas=True"
   ]
  },
  {
   "cell_type": "code",
   "execution_count": null,
   "metadata": {
    "scrolled": true
   },
   "outputs": [],
   "source": [
    "%%cypher\n",
    "match (n) return n;"
   ]
  },
  {
   "cell_type": "code",
   "execution_count": null,
   "metadata": {
    "scrolled": true
   },
   "outputs": [],
   "source": [
    "%%cypher\n",
    "match (n) return n.name;"
   ]
  },
  {
   "cell_type": "markdown",
   "metadata": {},
   "source": [
    "Vamos a añadir las relaciones `xref` que haya en las diapositivas. Por ahora sólo había unas puestas a mano. Para las diapositivas que no tengan referencias, añado una al azar."
   ]
  },
  {
   "cell_type": "code",
   "execution_count": null,
   "metadata": {},
   "outputs": [],
   "source": [
    "import random\n",
    "\n",
    "nslides = jisbd17.count()\n",
    "for doc in jisbd17.find():\n",
    "    for ref in doc.get('xref',['jisbd17-{:03d}'.format(random.randint(1,nslides))]):\n",
    "        slide_from = doc['_id']\n",
    "        slide_to = ref\n",
    "        %cypher MATCH (f:Slide {name: {slide_from}}), (t:Slide {name: {slide_to}}) MERGE (f)-[:REF]->(t)"
   ]
  },
  {
   "cell_type": "code",
   "execution_count": null,
   "metadata": {},
   "outputs": [],
   "source": [
    "%config CypherMagic.auto_networkx=False\n",
    "%config CypherMagic.auto_pandas=False"
   ]
  },
  {
   "cell_type": "code",
   "execution_count": null,
   "metadata": {},
   "outputs": [],
   "source": [
    "%%cypher\n",
    "MATCH p=shortestPath(\n",
    "  (s:Slide {name:\"jisbd17-004\"})-[*]->(r:Slide {name:\"jisbd17-025\"})\n",
    ")\n",
    "RETURN p"
   ]
  },
  {
   "cell_type": "code",
   "execution_count": null,
   "metadata": {},
   "outputs": [],
   "source": [
    "# Tópicos de slides con expresiones regulares"
   ]
  },
  {
   "cell_type": "code",
   "execution_count": null,
   "metadata": {
    "scrolled": true
   },
   "outputs": [],
   "source": [
    "import cypher\n",
    "cypher.run(\"MATCH (n) RETURN n\")"
   ]
  },
  {
   "cell_type": "code",
   "execution_count": null,
   "metadata": {},
   "outputs": [],
   "source": [
    "!sudo docker stop neo4j"
   ]
  },
  {
   "cell_type": "code",
   "execution_count": null,
   "metadata": {},
   "outputs": [],
   "source": [
    "!sudo docker stop mongo"
   ]
  },
  {
   "cell_type": "markdown",
   "metadata": {},
   "source": [
    "## Nuestro trabajo de investigación"
   ]
  },
  {
   "cell_type": "code",
   "execution_count": null,
   "metadata": {
    "scrolled": false
   },
   "outputs": [],
   "source": [
    "ds(164,6)"
   ]
  }
 ],
 "metadata": {
  "kernelspec": {
   "display_name": "Python 3",
   "language": "python",
   "name": "python3"
  },
  "language_info": {
   "codemirror_mode": {
    "name": "ipython",
    "version": 3
   },
   "file_extension": ".py",
   "mimetype": "text/x-python",
   "name": "python",
   "nbconvert_exporter": "python",
   "pygments_lexer": "ipython3",
   "version": "3.6.2"
  }
 },
 "nbformat": 4,
 "nbformat_minor": 2
}
