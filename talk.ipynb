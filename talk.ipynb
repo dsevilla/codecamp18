{
 "cells": [
  {
   "cell_type": "markdown",
   "metadata": {},
   "source": [
    "# Bases de datos que usas sin saberlo -- Codecamp'18\n",
    "\n",
    "Este tutorial está disponible en https://github.com/dsevilla/codecamp18.\n",
    "Diego Sevilla Ruiz, [dsevilla@um.es](mailto:dsevilla@um.es)."
   ]
  },
  {
   "cell_type": "code",
   "execution_count": null,
   "metadata": {},
   "outputs": [],
   "source": [
    "%load utils/functions.py"
   ]
  },
  {
   "cell_type": "code",
   "execution_count": null,
   "metadata": {},
   "outputs": [],
   "source": [
    "from IPython.display import Image\n",
    "from pprint import pprint as pp\n",
    "import pandas as pd\n",
    "import matplotlib.pyplot as plt\n",
    "import matplotlib\n",
    "\n",
    "%matplotlib inline\n",
    "matplotlib.style.use('ggplot')"
   ]
  },
  {
   "cell_type": "code",
   "execution_count": null,
   "metadata": {
    "scrolled": false
   },
   "outputs": [],
   "source": [
    "yoda(u\"Una guerra SQL vs. NoSQL no debes empezar\")"
   ]
  },
  {
   "cell_type": "code",
   "execution_count": null,
   "metadata": {},
   "outputs": [],
   "source": [
    "chew(\"Grrrrr!\")"
   ]
  },
  {
   "cell_type": "code",
   "execution_count": null,
   "metadata": {},
   "outputs": [],
   "source": [
    "%%bash\n",
    "sudo docker pull mongo"
   ]
  },
  {
   "cell_type": "code",
   "execution_count": null,
   "metadata": {},
   "outputs": [],
   "source": [
    "!pip install pymongo\n",
    "!pip install lxml\n",
    "!pip install folium\n",
    "!pip install ipython-cypher"
   ]
  },
  {
   "cell_type": "code",
   "execution_count": null,
   "metadata": {},
   "outputs": [],
   "source": [
    "!sudo docker run --rm -d --name mongo -p 27017:27017 mongo"
   ]
  },
  {
   "cell_type": "code",
   "execution_count": null,
   "metadata": {},
   "outputs": [],
   "source": [
    "import pymongo\n",
    "from pymongo import MongoClient\n",
    "client = MongoClient(\"localhost\", 27017)\n",
    "client"
   ]
  },
  {
   "cell_type": "markdown",
   "metadata": {},
   "source": [
    "Creamos una base de datos `codecamp18`:"
   ]
  },
  {
   "cell_type": "code",
   "execution_count": null,
   "metadata": {},
   "outputs": [],
   "source": [
    "db = client.codecamp18"
   ]
  },
  {
   "cell_type": "markdown",
   "metadata": {},
   "source": [
    "Y la colección `participantes18`:"
   ]
  },
  {
   "cell_type": "code",
   "execution_count": null,
   "metadata": {},
   "outputs": [],
   "source": [
    "participantes18 = db.participantes18\n",
    "participantes18"
   ]
  },
  {
   "cell_type": "code",
   "execution_count": null,
   "metadata": {},
   "outputs": [],
   "source": [
    "participantes18.insert_one(\n",
    "    {'nombre': 'Diego Sevilla Ruiz',\n",
    "    'dni' : '12345678X',\n",
    "    'photo': 'Chewbacca',\n",
    "    'intereses' : ['charla#2', 'charla#3', 'charla#4', 'charla#5']\n",
    "    })"
   ]
  },
  {
   "cell_type": "code",
   "execution_count": null,
   "metadata": {},
   "outputs": [],
   "source": [
    "client.database_names()"
   ]
  },
  {
   "cell_type": "code",
   "execution_count": null,
   "metadata": {},
   "outputs": [],
   "source": [
    "DictTable(participantes18.find_one())"
   ]
  },
  {
   "cell_type": "code",
   "execution_count": null,
   "metadata": {},
   "outputs": [],
   "source": [
    "participantes18.insert_one(\n",
    "    {'nombre': 'María José Ortín Ibáñez',\n",
    "     'dni' : '23456789Y',\n",
    "     'intereses' : ['charla#2', 'charla#3', 'charla#4', 'charla#5']\n",
    "    })"
   ]
  },
  {
   "cell_type": "markdown",
   "metadata": {},
   "source": [
    "También quieren guardar las diferentes charlas que hay... Para ello, nada mejor que obtener la lista de charlas desde la propia página web... :)"
   ]
  },
  {
   "cell_type": "code",
   "execution_count": null,
   "metadata": {},
   "outputs": [],
   "source": [
    "charlas18 = db.charlas18"
   ]
  },
  {
   "cell_type": "code",
   "execution_count": null,
   "metadata": {},
   "outputs": [],
   "source": [
    "charlas = pd.read_html('https://dafi.inf.um.es/CodeCamp/ediciones/2018/',\n",
    "                       attrs={'class': 'table'})"
   ]
  },
  {
   "cell_type": "code",
   "execution_count": null,
   "metadata": {},
   "outputs": [],
   "source": [
    "charlas[1]"
   ]
  },
  {
   "cell_type": "code",
   "execution_count": null,
   "metadata": {},
   "outputs": [],
   "source": [
    "for row in charlas[1].itertuples():\n",
    "    charlas18.insert_one({'_id' : \"charla%s\" % (row[1]),\n",
    "                          'título' : row[2],\n",
    "                          'ponentes' : row[3]\n",
    "                         })"
   ]
  },
  {
   "cell_type": "code",
   "execution_count": null,
   "metadata": {},
   "outputs": [],
   "source": [
    "ListDictTable(list(charlas18.find()))"
   ]
  },
  {
   "cell_type": "markdown",
   "metadata": {},
   "source": [
    "# Tipos de Sistemas NoSQL"
   ]
  },
  {
   "cell_type": "markdown",
   "metadata": {},
   "source": [
    "## MongoDB (documentos)\n",
    "\n",
    "![Image of MongoDB](https://webassets.mongodb.com/_com_assets/cms/MongoDB-Logo-5c3a7405a85675366beb3a5ec4c032348c390b3f142f5e6dddf1d78e2df5cb5c.png)\n",
    "\n",
    "Base de datos documental que usaremos como ejemplo. Una de las más extendidas:\n",
    "\n",
    "- Modelo de documentos JSON (BSON, en binario, usado para eficiencia)\n",
    "- Map-Reduce para transformaciones de la base de datos y consultas\n",
    "- Lenguaje propio de manipulación de la base de datos llamado \"de agregación\" (aggregate)\n",
    "- Soporta sharding (distribución de partes de la BD en distintos nodos)\n",
    "- Soporta replicación (copias sincronizadas master-slave en distintos nodos)\n",
    "- No soporta ACID\n",
    "- La transacción se realiza a nivel de **DOCUMENTO**\n",
    "\n",
    "Usaremos `pymongo` desde Python. Para instalarlo:\n",
    "\n",
    "    sudo pip install --upgrade pymongo\n"
   ]
  },
  {
   "cell_type": "markdown",
   "metadata": {},
   "source": [
    "### Texto y título de las diapositivas\n",
    "\n",
    "Como ya tenemos populada la colección `jisbd17`, podemos actualizar los documentos para añadir el título y el texto de cada diapositiva. Lo extraeremos del fichero `slides.tex`."
   ]
  },
  {
   "cell_type": "code",
   "execution_count": null,
   "metadata": {
    "scrolled": true
   },
   "outputs": [],
   "source": [
    "import re\n",
    "\n",
    "def read_slides():\n",
    "    in_slide = False\n",
    "    slidetitle = ''\n",
    "    slidetext = ''\n",
    "    slidenum = 0\n",
    "    with open('slides/slides.tex', 'r') as f:\n",
    "        for line in f:\n",
    "            # Remove comments\n",
    "            line = line.split('%')[0]\n",
    "            \n",
    "            if not in_slide:\n",
    "                if '\\\\begin{frame}' in line:\n",
    "                    in_slide = True\n",
    "            elif '\\\\frametitle' in line:\n",
    "                q = re.search('\\\\\\\\frametitle{([^}]+)',line)\n",
    "                slidetitle = q.group(1)\n",
    "                continue\n",
    "            elif '\\\\framebreak' in line or re.match('\\\\\\\\only<[^1]',line) or '\\\\end{frame}' in line:\n",
    "                \n",
    "                # Añadir la diapositiva a la lista\n",
    "                slideid = 'jisbd17-{:03d}'.format(slidenum)\n",
    "                print(slideid)\n",
    "                jisbd17.update_one({'_id': slideid},\n",
    "                       {'$set' : {'title': slidetitle,\n",
    "                                  'text' : slidetext\n",
    "                                 }},\n",
    "                      True)\n",
    "\n",
    "                # Next\n",
    "                slidetext = ''\n",
    "                slidenum += 1\n",
    "                if '\\\\end{frame}' in line:\n",
    "                    in_slide = False\n",
    "                    slidetitle = ''\n",
    "            else:\n",
    "                slidetext += line\n",
    "                \n",
    "# Llamar a la función\n",
    "read_slides()"
   ]
  },
  {
   "cell_type": "markdown",
   "metadata": {
    "scrolled": true
   },
   "source": [
    "Para usar el shell de mongo en Javascript:\n",
    "\n",
    "    docker exec -it mongo mongo"
   ]
  },
  {
   "cell_type": "markdown",
   "metadata": {},
   "source": [
    "### Consultas sencillas\n",
    "\n",
    "Distribución del tamaño del texto de las transparencias."
   ]
  },
  {
   "cell_type": "code",
   "execution_count": null,
   "metadata": {},
   "outputs": [],
   "source": [
    "slides = jisbd17.find(filter={},projection={'text': True})\n",
    "df = pd.DataFrame([len(s.get('text','')) for s in slides])\n",
    "df.plot()"
   ]
  },
  {
   "cell_type": "markdown",
   "metadata": {},
   "source": [
    "La función `find()` tiene un gran número de posibilidades para especificar la búsqueda. Se pueden utilizar cualificadores complejos como:\n",
    "\n",
    "- `$and`\n",
    "- `$or`\n",
    "- `$not`\n",
    "\n",
    "Estos calificadores unen \"objetos\", no valores. Por otro lado, hay otros calificadores que se refieren a valores:\n",
    "\n",
    "- `$lt` (menor)\n",
    "- `$lte` (menor o igual)\n",
    "- `$gt` (mayor)\n",
    "- `$gte` (mayor o igual)\n",
    "- `$regex` (expresión regular)"
   ]
  },
  {
   "cell_type": "code",
   "execution_count": null,
   "metadata": {},
   "outputs": [],
   "source": [
    "jisbd17.find_one({'text': {'$regex' : '[Mm]ongo'}})['_id']"
   ]
  },
  {
   "cell_type": "markdown",
   "metadata": {},
   "source": [
    "También permite mostrar el plan de ejecución:"
   ]
  },
  {
   "cell_type": "code",
   "execution_count": null,
   "metadata": {},
   "outputs": [],
   "source": [
    "jisbd17.find({'title' : 'jisbd17-001'}).explain()"
   ]
  },
  {
   "cell_type": "markdown",
   "metadata": {},
   "source": [
    "### Map-Reduce"
   ]
  },
  {
   "cell_type": "markdown",
   "metadata": {},
   "source": [
    "Mongodb incluye dos APIs para procesar y buscar documentos: el API de Map-Reduce y el API de agregación. Veremos primero el de Map-Reduce. Manual: https://docs.mongodb.com/manual/aggregation/#map-reduce\n",
    "\n",
    "![imagen](https://docs.mongodb.com/manual/_images/map-reduce.bakedsvg.svg)"
   ]
  },
  {
   "cell_type": "markdown",
   "metadata": {},
   "source": [
    "### Histograma de tamaño del texto de las diapositivas\n",
    "\n",
    "Con Map-Reduce se muestra el tamaño del texto de cada diapositiva, y el número de diapositiva que tienen ese tamaño de texto."
   ]
  },
  {
   "cell_type": "code",
   "execution_count": null,
   "metadata": {
    "scrolled": true
   },
   "outputs": [],
   "source": [
    "from bson.code import Code\n",
    "map = Code(\n",
    "    '''function () {\n",
    "           if ('text' in this)\n",
    "               emit(this.text.length, 1)\n",
    "           else\n",
    "               emit(0,1)\n",
    "       }''')\n",
    "reduce = Code(\n",
    "    '''function (key, values) {\n",
    "            return Array.sum(values);\n",
    "        }''')\n",
    "results = jisbd17.map_reduce(map, reduce, \"myresults\")\n",
    "results = list(results.find())\n",
    "results"
   ]
  },
  {
   "cell_type": "markdown",
   "metadata": {},
   "source": [
    "Como un *plot*:"
   ]
  },
  {
   "cell_type": "code",
   "execution_count": null,
   "metadata": {},
   "outputs": [],
   "source": [
    "df = pd.DataFrame(data = [int(r['value']) for r in results], \n",
    "                  index = [int(r['_id']) for r in results], \n",
    "                  columns=['posts per length'])\n",
    "df.plot(kind='bar',figsize=(30,10))"
   ]
  },
  {
   "cell_type": "markdown",
   "metadata": {},
   "source": [
    "O un histograma:"
   ]
  },
  {
   "cell_type": "code",
   "execution_count": null,
   "metadata": {},
   "outputs": [],
   "source": [
    "df.hist()"
   ]
  },
  {
   "cell_type": "markdown",
   "metadata": {},
   "source": [
    "### Framework de Agregación\n",
    "\n",
    "Framework de agregación: https://docs.mongodb.com/manual/reference/operator/aggregation/. Y aquí una presentación interesante sobre el tema: https://www.mongodb.com/presentations/aggregation-framework-0?jmp=docs&_ga=1.223708571.1466850754.1477658152\n",
    "\n",
    "![agragación](https://docs.mongodb.com/manual/_images/aggregation-pipeline.bakedsvg.svg)"
   ]
  },
  {
   "cell_type": "code",
   "execution_count": null,
   "metadata": {
    "scrolled": true
   },
   "outputs": [],
   "source": [
    "list(jisbd17.aggregate( [ {'$project' : { 'Id' : 1 }}, {'$limit': 20} ]))"
   ]
  },
  {
   "cell_type": "code",
   "execution_count": null,
   "metadata": {},
   "outputs": [],
   "source": [
    "nposts_by_length = jisbd17.aggregate( [\n",
    "        #{'$match': { 'text' : {'$regex': 'HBase'}}},\n",
    "        {'$project': {\n",
    "            'text' : {'$ifNull' : ['$text', '']}\n",
    "        }},\n",
    "        {'$project' : {\n",
    "             'id' : {'$strLenBytes': '$text'},\n",
    "             'value' : {'$literal' : 1}\n",
    "        }\n",
    "        },\n",
    "        {'$group' : {\n",
    "            '_id' : '$id',\n",
    "            'count' : {'$sum' : '$value'}\n",
    "        }\n",
    "        },\n",
    "        {'$sort' : { '_id' : 1}}\n",
    "        ])\n",
    "list(nposts_by_length)"
   ]
  },
  {
   "cell_type": "markdown",
   "metadata": {},
   "source": [
    "### Simulación de JOIN: `$lookup`\n",
    "\n",
    "El *framework* de agregación introdujo también una construcción equivalente a `JOIN` de SQL. Por ejemplo, se puede mostrar los títulos de las transparencias referenciadas además de los identificadores:"
   ]
  },
  {
   "cell_type": "code",
   "execution_count": null,
   "metadata": {},
   "outputs": [],
   "source": [
    "list(jisbd17.aggregate( [\n",
    "        {'$lookup' : {\n",
    "            \"from\": \"jisbd17\",\n",
    "            \"localField\": \"xref\",\n",
    "            \"foreignField\": \"_id\",\n",
    "            \"as\": \"xrefTitles\"\n",
    "        }},\n",
    "        {'$project' : {\n",
    "            '_id' : True,\n",
    "            'xref' : True,\n",
    "            'xrefTitles.title' : True\n",
    "        }}\n",
    "        ]))"
   ]
  },
  {
   "cell_type": "code",
   "execution_count": null,
   "metadata": {},
   "outputs": [],
   "source": [
    "df = pd.read_csv('extra/municipios-españa-2017.csv.gz',header=0,compression='gzip')"
   ]
  },
  {
   "cell_type": "code",
   "execution_count": null,
   "metadata": {},
   "outputs": [],
   "source": [
    "df.head()"
   ]
  },
  {
   "cell_type": "code",
   "execution_count": null,
   "metadata": {},
   "outputs": [],
   "source": [
    "ciudades = ['Mula']"
   ]
  },
  {
   "cell_type": "code",
   "execution_count": null,
   "metadata": {},
   "outputs": [],
   "source": [
    "mula = df[df.NOMBRE_ACTUAL==ciudades[0]].iloc[0]\n",
    "mula"
   ]
  },
  {
   "cell_type": "code",
   "execution_count": null,
   "metadata": {},
   "outputs": [],
   "source": [
    "import folium\n",
    "\n",
    "map = folium.Map(location=[38,-1.5],zoom_start=9)\n",
    "for nombre_ciudad in ciudades:\n",
    "    ciudad = df[df.NOMBRE_ACTUAL == nombre_ciudad].iloc[0]\n",
    "    folium.Marker(location=[ciudad.LATITUD_ETRS89,ciudad.LONGITUD_ETRS89],\n",
    "                  popup=nombre_ciudad).add_to(map)\n",
    "\n",
    "map"
   ]
  },
  {
   "cell_type": "markdown",
   "metadata": {},
   "source": [
    "## Neo4j (Grafos)\n",
    "\n",
    "![Image of HBase](https://neo4j.com/wp-content/themes/neo4jweb/assets/images/neo4j-logo-2015.png)\n",
    "\n",
    "Se puede utilizar el propio interfaz de Neo4j también en la dirección http://127.0.0.1:7474."
   ]
  },
  {
   "cell_type": "code",
   "execution_count": null,
   "metadata": {},
   "outputs": [],
   "source": [
    "%%bash\n",
    "sudo docker pull neo4j\n",
    "sudo docker run -d --rm --name neo4j -p 7474:7474 -p 7687:7687 --env NEO4J_AUTH=none neo4j"
   ]
  },
  {
   "cell_type": "markdown",
   "metadata": {},
   "source": [
    "Vamos a cargar la extensión `ipython-cypher` para poder lanzar consultas Cypher directamente a través de la hoja. He iniciado la imagen de Neo4j sin autenticación, para pruebas locales.\n",
    "\n",
    "Utilizaremos una extensión de Jupyter Notebook que se llama `ipython-cypher`. Está instalada en la máquina virtual. Si no, se podría instalar con:\n",
    "\n",
    "    pip install ipython-cypher\n",
    "    \n",
    "Después, todas las celdas que comiencen por `%%cypher` y todas las instrucciones Python que comiencen por `%cypher` se enviarán a Neo4j para su interpretación."
   ]
  },
  {
   "cell_type": "markdown",
   "metadata": {},
   "source": [
    "### El lenguaje Cypher\n"
   ]
  },
  {
   "cell_type": "markdown",
   "metadata": {},
   "source": [
    "### Ipython-cypher"
   ]
  },
  {
   "cell_type": "code",
   "execution_count": null,
   "metadata": {},
   "outputs": [],
   "source": [
    "%load_ext cypher"
   ]
  },
  {
   "cell_type": "code",
   "execution_count": null,
   "metadata": {},
   "outputs": [],
   "source": [
    "%config CypherMagic.auto_html=False\n",
    "%config CypherMagic.auto_pandas=True"
   ]
  },
  {
   "cell_type": "code",
   "execution_count": null,
   "metadata": {
    "scrolled": true
   },
   "outputs": [],
   "source": [
    "%%cypher\n",
    "match (n) return n;"
   ]
  },
  {
   "cell_type": "code",
   "execution_count": null,
   "metadata": {
    "scrolled": true
   },
   "outputs": [],
   "source": [
    "%%cypher\n",
    "match (n) return n.name;"
   ]
  },
  {
   "cell_type": "markdown",
   "metadata": {},
   "source": [
    "Vamos a añadir las relaciones `xref` que haya en las diapositivas. Por ahora sólo había unas puestas a mano. Para las diapositivas que no tengan referencias, añado una al azar."
   ]
  },
  {
   "cell_type": "code",
   "execution_count": null,
   "metadata": {},
   "outputs": [],
   "source": [
    "import random\n",
    "\n",
    "nslides = jisbd17.count()\n",
    "for doc in jisbd17.find():\n",
    "    for ref in doc.get('xref',['jisbd17-{:03d}'.format(random.randint(1,nslides))]):\n",
    "        slide_from = doc['_id']\n",
    "        slide_to = ref\n",
    "        %cypher MATCH (f:Slide {name: {slide_from}}), (t:Slide {name: {slide_to}}) MERGE (f)-[:REF]->(t)"
   ]
  },
  {
   "cell_type": "code",
   "execution_count": null,
   "metadata": {},
   "outputs": [],
   "source": [
    "%config CypherMagic.auto_networkx=False\n",
    "%config CypherMagic.auto_pandas=False"
   ]
  },
  {
   "cell_type": "code",
   "execution_count": null,
   "metadata": {},
   "outputs": [],
   "source": [
    "%%cypher\n",
    "MATCH p=shortestPath(\n",
    "  (s:Slide {name:\"jisbd17-004\"})-[*]->(r:Slide {name:\"jisbd17-025\"})\n",
    ")\n",
    "RETURN p"
   ]
  },
  {
   "cell_type": "code",
   "execution_count": null,
   "metadata": {},
   "outputs": [],
   "source": [
    "# Tópicos de slides con expresiones regulares"
   ]
  },
  {
   "cell_type": "code",
   "execution_count": null,
   "metadata": {
    "scrolled": true
   },
   "outputs": [],
   "source": [
    "import cypher\n",
    "cypher.run(\"MATCH (n) RETURN n\")"
   ]
  },
  {
   "cell_type": "code",
   "execution_count": null,
   "metadata": {},
   "outputs": [],
   "source": [
    "!sudo docker stop neo4j"
   ]
  },
  {
   "cell_type": "code",
   "execution_count": null,
   "metadata": {},
   "outputs": [],
   "source": [
    "!sudo docker stop mongo"
   ]
  }
 ],
 "metadata": {
  "kernelspec": {
   "display_name": "Python 3",
   "language": "python",
   "name": "python3"
  },
  "language_info": {
   "codemirror_mode": {
    "name": "ipython",
    "version": 3
   },
   "file_extension": ".py",
   "mimetype": "text/x-python",
   "name": "python",
   "nbconvert_exporter": "python",
   "pygments_lexer": "ipython3",
   "version": "3.6.3"
  }
 },
 "nbformat": 4,
 "nbformat_minor": 2
}
